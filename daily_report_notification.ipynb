{
  "nbformat": 4,
  "nbformat_minor": 0,
  "metadata": {
    "colab": {
      "provenance": [],
      "authorship_tag": "ABX9TyOJlqy6QS8R0XbUREWmTk6z",
      "include_colab_link": true
    },
    "kernelspec": {
      "name": "python3",
      "display_name": "Python 3"
    },
    "language_info": {
      "name": "python"
    }
  },
  "cells": [
    {
      "cell_type": "markdown",
      "metadata": {
        "id": "view-in-github",
        "colab_type": "text"
      },
      "source": [
        "<a href=\"https://colab.research.google.com/github/Ahmedshafea/blog/blob/main/daily_report_notification.ipynb\" target=\"_parent\"><img src=\"https://colab.research.google.com/assets/colab-badge.svg\" alt=\"Open In Colab\"/></a>"
      ]
    },
    {
      "cell_type": "code",
      "execution_count": null,
      "metadata": {
        "colab": {
          "base_uri": "https://localhost:8080/"
        },
        "id": "LWq8b26Z8eJD",
        "outputId": "fe9f5761-a92b-48cd-b052-e412b37025fc"
      },
      "outputs": [
        {
          "output_type": "stream",
          "name": "stdout",
          "text": [
            "Enter the name of the employee: Ali Ramahi\n",
            "\n",
            "Hello Ali Ramahi,\n",
            "\n",
            "We are implementing a new process to help our teams stay aligned through regular status updates. Starting today, we kindly ask that you please fill out a daily report with your key tasks, progress, blockers, and hours worked.\n",
            "\n",
            "I've attached a template spreadsheet specifically for your role as a Accountant for you to complete each day. Please fill it out at the end of each workday with the following details:\n",
            "\n",
            "Tasks worked on\n",
            "Progress made that day\n",
            "Any blockers or issues\n",
            "Total hours for the day\n",
            "Any help needed\n",
            "\n",
            "This should take no more than 10 minutes. The reports will provide valuable visibility so leadership can proactively assist with any bottlenecks. We may also use the data to analyze workload across teams.\n",
            "\n",
            "Please let me know if you have any questions! Submitting your daily report is extremely helpful for us to understand what your team is working on and improve our processes. Thank you for your cooperation.\n",
            "\n",
            "Spreadsheet Link https://docs.google.com/spreadsheets/d/1R3ngs-JK1DeAlyYXlmWPQYvm-dXdggFdb_BYBWpWGIw/edit?usp=sharing\n",
            "\n",
            "Best Regards,\n",
            "Ahmed Shafea\n",
            "\n"
          ]
        }
      ],
      "source": [
        "# List of employees\n",
        "employee_list = [\n",
        "    {\"Name\": \"Ali Ramahi\", \"Role\": \"Accountant\", \"Google Link\": \"https://docs.google.com/spreadsheets/d/1R3ngs-JK1DeAlyYXlmWPQYvm-dXdggFdb_BYBWpWGIw/edit?usp=sharing\"},\n",
        "    {\"Name\": \"Ibrahim Ashraf\", \"Role\": \"UI/UX Designer\", \"Google Link\": \"https://docs.google.com/spreadsheets/d/1fh40sZEs3t9qkxj8RxQZOT4ins_-16rYLbXriCBW46A/edit?usp=sharing\"},\n",
        "    {\"Name\": \"Issa Mahfouz\", \"Role\": \"Full Stack Developer\", \"Google Link\": \"https://docs.google.com/spreadsheets/d/1FlVaUfB9MUTo-Hxj15Ka4mInCMj42rlEJBu4_klBREQ/edit?usp=sharing\"},\n",
        "    {\"Name\": \"Dina Ashraf\", \"Role\": \"Quality Assurance\", \"Google Link\": \"https://docs.google.com/spreadsheets/d/1GFojHhi_Dp6Gi6I-IVHP_kDOuNAHwipAoAb1keEXDJs/edit?usp=sharing\"},\n",
        "    {\"Name\": \"Ahmed Farouk\", \"Role\": \"Quality Assurance\", \"Google Link\": \"https://docs.google.com/spreadsheets/d/17nRTiaYAuIirfRWFeQwgW3_uHc0Xa3iuvBMX11l0twY/edit?usp=sharing\"},\n",
        "    {\"Name\": \"Dana Abu Rumman\", \"Role\": \"Quality Assurance\", \"Google Link\": \"https://docs.google.com/spreadsheets/d/1SjD3W1H6J-8EsvI8R8KvdQeD8wBUS3bRUAkzqh3iKDk/edit?usp=sharing\"},\n",
        "    {\"Name\": \"Omar Wathifi\", \"Role\": \"Mobile Developer\", \"Google Link\": \"https://docs.google.com/spreadsheets/d/1heAr10_p9TZYBfW08_ErdKIJ7H2TnpAaLQM86g-WAko/edit?usp=sharing\"},\n",
        "    {\"Name\": \"Ahmed Mustafa\", \"Role\": \"Full Stack Developer\", \"Google Link\": \"https://docs.google.com/spreadsheets/d/1l3lPNZBBb8WxTfGvPv2AX942ExtSV55UoM0FXAlGQxc/edit?usp=sharing\"},\n",
        "    {\"Name\": \"Hamza\", \"Role\": \"Full Stack Developer\", \"Google Link\": \"https://docs.google.com/spreadsheets/d/1zfb-hsP7RLQhyHSjE0gNE8KpNyXxk3fkSLRsmscallc/edit?usp=sharing\"},\n",
        "    {\"Name\": \"Fatima Marzouq\", \"Role\": \"Full Stack Developer\", \"Google Link\": \"https://docs.google.com/spreadsheets/d/1D3hN8OxTahSwa-Z0Z_IfYgRIczj2ZQWCivBMa-G7hp4/edit?usp=sharing\"},\n",
        "    {\"Name\": \"Fatima Abed\", \"Role\": \"Full Stack Developer\", \"Google Link\": \"https://docs.google.com/spreadsheets/d/1_5arKQoKB35pyURT01R6Mzm0U893IodMC9z-gTls4Sg/edit?usp=sharing\"},\n",
        "    {\"Name\": \"Raneem Mousa\", \"Role\": \"Business Analyst\", \"Google Link\": \"https://docs.google.com/spreadsheets/d/1kgmOxPVlbOsMgKprK61aPuC7bDCAHFWaIM1MqiEqII8/edit?usp=sharing\"},\n",
        "    {\"Name\": \"Farah Mohammed\", \"Role\": \"Backend Developer\", \"Google Link\": \"https://docs.google.com/spreadsheets/d/1HIRjY-TV4C9qukCTOKKqetmuAxcpGodIaAiVq1WEEn8/edit?usp=sharing\"},\n",
        "    {\"Name\": \"Ahmed Husanien\", \"Role\": \"Mobile Developer\", \"Google Link\": \"https://docs.google.com/spreadsheets/d/1DBzcMguUw4QvXdcUYDiCvziLE016hzH_tE4g37tgGE0/edit?usp=sharing\"}\n",
        "]\n",
        "\n",
        "\n",
        "# Template message (same as before)\n",
        "template_message = \"\"\"\n",
        "Hello {Name},\n",
        "\n",
        "We are implementing a new process to help our teams stay aligned through regular status updates. Starting today, we kindly ask that you please fill out a daily report with your key tasks, progress, blockers, and hours worked.\n",
        "\n",
        "I've attached a template spreadsheet specifically for your role as a {Role} for you to complete each day. Please fill it out at the end of each workday with the following details:\n",
        "\n",
        "Tasks worked on\n",
        "Progress made that day\n",
        "Any blockers or issues\n",
        "Total hours for the day\n",
        "Any help needed\n",
        "\n",
        "This should take no more than 10 minutes. The reports will provide valuable visibility so leadership can proactively assist with any bottlenecks. We may also use the data to analyze workload across teams.\n",
        "\n",
        "Please let me know if you have any questions! Submitting your daily report is extremely helpful for us to understand what your team is working on and improve our processes. Thank you for your cooperation.\n",
        "\n",
        "Spreadsheet Link {Google Link}\n",
        "\n",
        "Best Regards,\n",
        "Ahmed Shafea\n",
        "\"\"\"\n",
        "\n",
        "# Function to send a message to a specific employee\n",
        "def send_message_to_employee(employee_list, template_message):\n",
        "    employee_name = input(\"Enter the name of the employee: \")\n",
        "    for employee in employee_list:\n",
        "        if employee[\"Name\"].lower() == employee_name.lower():\n",
        "            message = template_message.format(**employee)\n",
        "            print(message)\n",
        "            return\n",
        "\n",
        "    print(\"Employee not found in the list.\")\n",
        "\n",
        "# Call the function to send a message to a specific employee\n",
        "send_message_to_employee(employee_list, template_message)\n"
      ]
    },
    {
      "cell_type": "code",
      "source": [],
      "metadata": {
        "id": "dNblhUQnAvmS"
      },
      "execution_count": null,
      "outputs": []
    },
    {
      "cell_type": "code",
      "source": [],
      "metadata": {
        "id": "80S7CWO9Av5s"
      },
      "execution_count": null,
      "outputs": []
    }
  ]
}