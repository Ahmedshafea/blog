{
  "cells": [
    {
      "cell_type": "markdown",
      "metadata": {
        "id": "view-in-github",
        "colab_type": "text"
      },
      "source": [
        "<a href=\"https://colab.research.google.com/github/Ahmedshafea/scripttodo/blob/main/Send_emails.ipynb\" target=\"_parent\"><img src=\"https://colab.research.google.com/assets/colab-badge.svg\" alt=\"Open In Colab\"/></a>"
      ]
    },
    {
      "cell_type": "code",
      "execution_count": null,
      "metadata": {
        "colab": {
          "background_save": true
        },
        "id": "s7CVm32A1Rkw"
      },
      "outputs": [],
      "source": [
        "import smtplib\n",
        "import time\n",
        "import requests\n",
        "import pandas as pd\n",
        "from openpyxl import Workbook\n",
        "\n",
        "# Read the Excel file\n",
        "df = pd.read_excel('SendEmailsData.xlsx')\n",
        "\n",
        "# Extract the column as a list\n",
        "names = df['Name'].tolist()\n",
        "addresslist = df['Email'].tolist()\n",
        "\n",
        "\n",
        "contentmsg =  '''Hi, {},\n",
        "\n",
        "I hope this email finds you doing well.  I’m reaching out on behalf of the group leaders of a prestigious labor & employment group in Chicago. This is an important role for an associate and will involve working directly with the practice group leaders.  I’m not sure how your current situation looks, but I’d love to share a few details.\n",
        "\n",
        "If you are curious to hear the details of this opening and have 5 minutes to spare, my director, Lindsay Brett, will reach out to you at your convenience.  Even if you are not currently looking to move, now is a great time to connect and get a snapshot of the legal market.\n",
        "\n",
        "Look forward to hearing back from you.\n",
        "\n",
        "Warm regards,\n",
        "Mia\n",
        "\n",
        "'''\n",
        "fromaddr = 'mia@mfjinternational.com'\n",
        "\n",
        "for address,name in zip(addresslist,names):\n",
        "    toaddrs  = address\n",
        "    TEXT = contentmsg.format(name)\n",
        "    SUBJECT = 'Confidential Outreach: Labor & Employment Associate '\n",
        "    msg = 'Subject: %s\\n\\n%s' % (SUBJECT, TEXT)\n",
        "\n",
        "\n",
        "    # Your gmail Credentials\n",
        "    username = 'mia@mfjinternational.com'\n",
        "    password = 'fthosecoats'\n",
        "\n",
        "    # Sending the mail\n",
        "    server = smtplib.SMTP('smtp.gmail.com',587)\n",
        "    server.starttls()\n",
        "    server.login(username,password)\n",
        "    server.sendmail(fromaddr, toaddrs, msg.encode('utf-8').strip() )\n",
        "    server.quit()\n",
        "    time.sleep(80)\n",
        "    print(name+\":\"+address)\n"
      ]
    }
  ],
  "metadata": {
    "colab": {
      "provenance": [],
      "authorship_tag": "ABX9TyMr1bQHCHpRLfvaodEwXIGx",
      "include_colab_link": true
    },
    "kernelspec": {
      "display_name": "Python 3",
      "name": "python3"
    },
    "language_info": {
      "name": "python"
    }
  },
  "nbformat": 4,
  "nbformat_minor": 0
}