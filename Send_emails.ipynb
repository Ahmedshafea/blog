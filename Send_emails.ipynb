{
  "cells": [
    {
      "cell_type": "markdown",
      "metadata": {
        "id": "view-in-github",
        "colab_type": "text"
      },
      "source": [
        "<a href=\"https://colab.research.google.com/github/Ahmedshafea/scripttodo/blob/main/Send_emails.ipynb\" target=\"_parent\"><img src=\"https://colab.research.google.com/assets/colab-badge.svg\" alt=\"Open In Colab\"/></a>"
      ]
    },
    {
      "cell_type": "code",
      "execution_count": null,
      "metadata": {
        "colab": {
          "background_save": true,
          "base_uri": "https://localhost:8080/"
        },
        "id": "s7CVm32A1Rkw",
        "outputId": "4077b24b-64fa-4bee-aaf4-8e7dea5b9943"
      },
      "outputs": [
        {
          "name": "stdout",
          "output_type": "stream",
          "text": [
            "Agnes:agnes.won@bakermckenzie.com\n",
            "Sarah:sarah.bahn@bakermckenzie.com\n",
            "Caitlin:caitlin.barden@quarles.com\n",
            "Damiya:damiya.park@bakermckenzie.com\n",
            "Remy:remy.snead@bakermckenzie.com\n",
            "Jin:jin.to@klgates.com\n",
            "Kara:angelettik@gtlaw.com\n",
            "Casey:casey.leech@jacksonlewis.com\n",
            "Elizabeth:eolivera@cozen.com\n",
            "Julia:jsprangers@sidley.com\n",
            "Douglass:dnolan@fordharrison.com\n",
            "Karen:kvillagomez@hsplegal.com\n",
            "Wes:wes.benter@kirkland.com\n",
            "Madeline:madeline.remish@saul.com\n",
            "Alex:paehler@beneschlaw.com\n",
            "Francesca:fgiderof@lanermuchin.com\n",
            "Julia:jkeenan@seyfarth.com\n",
            "Cristina:mcneileyc@gtlaw.com\n",
            "Jacob:jaleknavicius@jonesday.com\n",
            "Carly:cgibbons@cooley.com\n",
            "Andre:asutton@ohaganmeyer.com\n",
            "Victoria:vhubona@sheppardmullin.com\n",
            "Meg:mkarnig@littler.com\n",
            "Elliot:elliot.slowiczek@jacksonlewis.com\n",
            "Jewell:jewing@martensonlaw.com\n",
            "Dakota:dtreece@proskauer.com\n",
            "Alissa:agriffin@nge.com\n",
            "Erica:eyoung@constangy.com\n",
            "Angel:aperez@ebglaw.com\n",
            "Christopher:chris.dempsey@morganlewis.com\n",
            "Zev:zgrumetmorris@duanemorris.com\n",
            "Derek:derek.franklin@jacksonlewis.com\n"
          ]
        }
      ],
      "source": [
        "import smtplib\n",
        "import time\n",
        "import requests\n",
        "import pandas as pd\n",
        "from openpyxl import Workbook\n",
        "\n",
        "# Read the Excel file\n",
        "df = pd.read_excel('SendEmailsData.xlsx')\n",
        "\n",
        "# Extract the column as a list\n",
        "names = df['Name'].tolist()\n",
        "addresslist = df['Email'].tolist()\n",
        "\n",
        "\n",
        "contentmsg =  '''Hi, {},\n",
        "\n",
        "I hope this email finds you doing well.  I’m reaching out on behalf of the group leaders of a prestigious labor & employment group in Chicago. This is an important role for an associate and will involve working directly with the practice group leaders.  I’m not sure how your current situation looks, but I’d love to share a few details.\n",
        "\n",
        "If you are curious to hear the details of this opening and have 5 minutes to spare, my director, Lindsay Brett, will reach out to you at your convenience.  Even if you are not currently looking to move, now is a great time to connect and get a snapshot of the legal market.\n",
        "\n",
        "Look forward to hearing back from you.\n",
        "\n",
        "Warm regards,\n",
        "Mia\n",
        "\n",
        "'''\n",
        "fromaddr = 'mia@mfjinternational.com'\n",
        "\n",
        "for address,name in zip(addresslist,names):\n",
        "    toaddrs  = address\n",
        "    TEXT = contentmsg.format(name)\n",
        "    SUBJECT = 'Confidential Outreach: Labor & Employment Associate '\n",
        "    msg = 'Subject: %s\\n\\n%s' % (SUBJECT, TEXT)\n",
        "\n",
        "\n",
        "    # Your gmail Credentials\n",
        "    username = 'mia@mfjinternational.com'\n",
        "    password = 'fthosecoats'\n",
        "\n",
        "    # Sending the mail\n",
        "    server = smtplib.SMTP('smtp.gmail.com',587)\n",
        "    server.starttls()\n",
        "    server.login(username,password)\n",
        "    server.sendmail(fromaddr, toaddrs, msg.encode('utf-8').strip() )\n",
        "    server.quit()\n",
        "    time.sleep(80)\n",
        "    print(name+\":\"+address)\n"
      ]
    },
    {
      "cell_type": "code",
      "execution_count": null,
      "metadata": {
        "colab": {
          "base_uri": "https://localhost:8080/"
        },
        "id": "aAhnRwRVmpXm",
        "outputId": "73f6bf20-e578-4b5e-a655-3a9825c5ca3d"
      },
      "outputs": [
        {
          "name": "stdout",
          "output_type": "stream",
          "text": [
            "[]\n"
          ]
        }
      ],
      "source": [
        "import csv\n",
        "\n",
        "with open('file.csv', 'r') as read_obj:\n",
        "  csv_reader = csv.reader(read_obj)\n",
        "  list_of_csv = list(map(tuple, csv_reader))\n",
        "\n",
        "print(list_of_csv)\n"
      ]
    }
  ],
  "metadata": {
    "colab": {
      "provenance": [],
      "authorship_tag": "ABX9TyMVW46lInd5ThlLYQ8QRbxZ",
      "include_colab_link": true
    },
    "kernelspec": {
      "display_name": "Python 3",
      "name": "python3"
    },
    "language_info": {
      "name": "python"
    }
  },
  "nbformat": 4,
  "nbformat_minor": 0
}